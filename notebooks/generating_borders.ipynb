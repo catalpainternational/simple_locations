{
 "cells": [
  {
   "cell_type": "markdown",
   "metadata": {},
   "source": [
    "# Generating Borders"
   ]
  },
  {
   "cell_type": "markdown",
   "metadata": {},
   "source": [
    "When geographic data shares common borders, a lot of data processing and mapping is duplicated. Topologies can reduce that by referring to the relationships between items rather than treating each area as a separate entity."
   ]
  },
  {
   "cell_type": "markdown",
   "metadata": {},
   "source": [
    "## Creating Borders"
   ]
  },
  {
   "cell_type": "markdown",
   "metadata": {},
   "source": [
    "This is the procedure followed for generating the \"borders\" from simple locations.\n",
    "In this instance it's for PNG but the same procedure should work for any geographic data.\n",
    "First create a new \"topology\"\n",
    "\n",
    "```sql\n",
    "SELECT topology.CreateTopology('ma_topo', 3857, 15);  -- should return 1 if this is the first topology to be created\n",
    "CREATE TABLE public.simple_locations_topology(id serial, area_id int);\n",
    "SELECT topology.AddTopoGeometryColumn('ma_topo', 'public', 'simple_locations_topology', 'topo', 'LINESTRING');\n",
    "```\n",
    "\n",
    "Process existing georaphic data to topology. This can take a long time. If you encounter exceptions, check that your geometry\n",
    "is valid and try different simplification\n",
    "\n",
    "```sql\n",
    "insert into simple_locations_topology(area_id, topo)  SELECT id, topology.toTopoGeom(st_transform(ST_ExteriorRing((st_dump(geom)).geom), 3857), 'ma_topo', 1, 15)\n",
    "from simple_locations_area sla;\n",
    "\n",
    "drop table if exists simple_locations_areaboundary;\n",
    "create table if not exists simple_locations_areaboundary(geom geometry(linestring, 3857), edge_id int, area_ids int[], area_types text[]);\n",
    "truncate simple_locations_areaboundary;\n",
    "insert into simple_locations_areaboundary(geom, edge_id, area_ids, area_types)\n",
    "select \n",
    "\te.geom, e.edge_id, edge_area_kind.area_ids, edge_area_kind.area_types\n",
    "\tfrom ma_topo.edge e,\n",
    "\t(\n",
    "\tSELECT e.edge_id, array_agg( distinct sla2.id) area_ids, array_agg( distinct sla3.slug) area_types\n",
    "\tFROM ma_topo.edge e,\n",
    "\t\t\tma_topo.relation rel,\n",
    "\t     \tsimple_locations_topology sla,\n",
    "\t     \tsimple_locations_area sla2,\n",
    "\t     \tsimple_locations_areatype sla3\n",
    "\tWHERE e.edge_id = rel.element_id\n",
    "\t  AND rel.topogeo_id = (sla.topo).id\n",
    "\t  and sla.area_id = sla2.id\n",
    "\t  and sla2.kind_id = sla3.id\n",
    "\t  and rel.layer_id = 1\n",
    "\t  group by e.edge_id\n",
    "\t) edge_area_kind\n",
    "\twhere e.edge_id = edge_area_kind.edge_id;\n",
    "\n",
    "insert into simple_locations_border(geom) select geom from simple_locations_areaboundary;\n",
    "\n",
    "insert into simple_locations_border_area(border_id, area_id)\n",
    "select b.id, unnest(ab.area_ids) from simple_locations_areaboundary ab, simple_locations_border b where b.geom = ab.geom\n",
    "```"
   ]
  },
  {
   "cell_type": "markdown",
   "metadata": {},
   "source": [
    "An example table from the above, lines which are regional borders:\n",
    "\n",
    "```sql\n",
    "create table region_borders as (\n",
    "SELECT DISTINCT \"simple_locations_border\".\"geom\"\n",
    "FROM \"simple_locations_border\" \n",
    "INNER JOIN \"simple_locations_border_area\" \n",
    "ON (\"simple_locations_border\".\"id\" = \"simple_locations_border_area\".\"border_id\")\n",
    "INNER JOIN \"simple_locations_area\" ON (\"simple_locations_border_area\".\"area_id\" = \"simple_locations_area\".\"id\") \n",
    "INNER JOIN \"simple_locations_areatype\" ON (\"simple_locations_area\".\"kind_id\" = \"simple_locations_areatype\".\"id\") \n",
    "WHERE \"simple_locations_areatype\".\"slug\" = 'region'\n",
    ");\n",
    "```"
   ]
  },
  {
   "cell_type": "code",
   "execution_count": null,
   "metadata": {},
   "outputs": [],
   "source": []
  }
 ],
 "metadata": {
  "kernelspec": {
   "display_name": "Django Shell-Plus",
   "language": "python",
   "name": "django_extensions"
  },
  "language_info": {
   "codemirror_mode": {
    "name": "ipython",
    "version": 3
   },
   "file_extension": ".py",
   "mimetype": "text/x-python",
   "name": "python",
   "nbconvert_exporter": "python",
   "pygments_lexer": "ipython3",
   "version": "3.8.10"
  }
 },
 "nbformat": 4,
 "nbformat_minor": 4
}
